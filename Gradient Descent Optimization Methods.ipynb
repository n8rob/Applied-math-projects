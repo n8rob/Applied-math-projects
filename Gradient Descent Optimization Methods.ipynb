{
 "cells": [
  {
   "cell_type": "code",
   "execution_count": 8,
   "metadata": {},
   "outputs": [],
   "source": [
    "#Nate's Gradient Methods\n",
    "\n",
    "import numpy as np\n",
    "from matplotlib import pyplot as plt\n",
    "from autograd import numpy as anp\n",
    "from autograd import grad\n",
    "from autograd import elementwise_grad, jacobian\n",
    "import sympy as sy\n",
    "from scipy import linalg as la\n",
    "from scipy import optimize as opt\n",
    "import pdb"
   ]
  },
  {
   "cell_type": "markdown",
   "metadata": {},
   "source": [
    "This function implements the exact method of steepest descent, using a one-dimensional optimization method to choose the step size to compute the minimum of function f. We use \n",
    "$x_{k+1} = x_k - \\alpha_{k}Df(x_k)$ with $\\alpha_k = argmin_{\\alpha} f(x_k - \\alpha_{}Df(x_k))$."
   ]
  },
  {
   "cell_type": "code",
   "execution_count": 2,
   "metadata": {},
   "outputs": [],
   "source": [
    "def steepest_descent(f, Df, x0, tol=1e-5, maxiter=100):\n",
    "    \"\"\"Compute the minimizer of f using the exact method of steepest descent.\n",
    "\n",
    "    Parameters:\n",
    "        f (function): The objective function. Accepts a NumPy array of shape\n",
    "            (n,) and returns a float.\n",
    "        Df (function): The first derivative of f. Accepts and returns a NumPy\n",
    "            array of shape (n,).\n",
    "        x0 ((n,) ndarray): The initial guess.\n",
    "        tol (float): The stopping tolerance.\n",
    "        maxiter (int): The maximum number of iterations to compute.\n",
    "\n",
    "    Returns:\n",
    "        ((n,) ndarray): The approximate minimum of f.\n",
    "        (bool): Whether or not the algorithm converged.\n",
    "        (int): The number of iterations computed.\n",
    "    \"\"\"\n",
    "    \n",
    "    #We want floats for the grad module to work\n",
    "    x0 = np.float64(x0)\n",
    "    #We want to count the iterations and get the bool conv\n",
    "    iterations = 0\n",
    "    conv = False\n",
    "    #Now we iterate\n",
    "    for i in range(maxiter):\n",
    "        #Define y0 to make things easier\n",
    "        y0 = Df(x0).T\n",
    "        #Find alpha\n",
    "        fcn_alpha = lambda alpha: f(x0 - alpha*y0)\n",
    "        alpha0 = opt.minimize_scalar(fcn_alpha).x\n",
    "        #Compute x1\n",
    "        x1 = x0 - alpha0*y0\n",
    "        #Count!\n",
    "        iterations += 1\n",
    "        #Check if we have convergence already\n",
    "        if la.norm(Df(x1),np.inf) < tol:\n",
    "            conv = True\n",
    "            break\n",
    "        #Start again\n",
    "        x0 = x1\n",
    "\n",
    "    #Get the value\n",
    "    return x1, conv, iterations"
   ]
  },
  {
   "cell_type": "markdown",
   "metadata": {},
   "source": [
    "Here we use conjugate gradient rather than steepest descent. (The direction of descent is the conjugate direction, which is guaranteed to descend but may not be the direction of steepest descent.) Note that solving $Q\\textbf{x} = \\textbf{b}$ as we do here is equivalent to minimizing the quadratic function $f(\\textbf{x}) = \\frac{1}{2}\\textbf{x}^{T}Q\\textbf{x} + \\textbf{b}^{T}\\textbf{x} + c$."
   ]
  },
  {
   "cell_type": "code",
   "execution_count": 9,
   "metadata": {},
   "outputs": [],
   "source": [
    "def conjugate_gradient(Q, b, x0, tol=1e-4):\n",
    "    \"\"\"Solve the linear system Qx = b with the conjugate gradient algorithm.\n",
    "\n",
    "    Parameters:\n",
    "        Q ((n,n) ndarray): A positive-definite square matrix.\n",
    "        b ((n, ) ndarray): The right-hand side of the linear system.\n",
    "        x0 ((n,) ndarray): An initial guess for the solution to Qx = b.\n",
    "        tol (float): The convergence tolerance.\n",
    "\n",
    "    Returns:\n",
    "        ((n,) ndarray): The solution to the linear system Qx = b.\n",
    "        (bool): Whether or not the algorithm converged.\n",
    "        (int): The number of iterations computed.\n",
    "    \"\"\"\n",
    "    \n",
    "    #We first initialize r0 and step direction d0\n",
    "    n = len(b)\n",
    "    r0 = Q@x0-b\n",
    "    d0 = -r0\n",
    "    #We want to count the iterations and get the bool conv\n",
    "    iterations = 0\n",
    "    conv = False\n",
    "    #Now we iterate\n",
    "    for k in range(n+1):\n",
    "        #Get the step size\n",
    "        alpha0 = np.inner(r0,r0)/np.inner(d0,Q@d0)\n",
    "        #Get x1 (as well as r1 and beta1 and step direction d1, involved in calculation).\n",
    "        x1 = x0 + alpha0*d0\n",
    "        r1 = r0 + alpha0*Q@d0\n",
    "        beta1 = np.inner(r1,r1)/np.inner(r0,r0)\n",
    "        d1 = -r1 + beta1*d0\n",
    "        #Count!\n",
    "        iterations += 1\n",
    "        #Check if we have convergence already\n",
    "        if la.norm(r0) < tol:\n",
    "            conv = True\n",
    "            break\n",
    "        #Start again\n",
    "        x0 = x1\n",
    "        r0 = r1\n",
    "        d0 = d1\n",
    "\n",
    "    #Get the value\n",
    "    return x1, conv, iterations"
   ]
  },
  {
   "cell_type": "markdown",
   "metadata": {},
   "source": [
    "Here we do non-linear conjugate gradient. This works for more general functions, though convergence is not guaranteed as it is with the previous function. Here we have the step size $\\alpha_{k} = argmin_{\\alpha}f(\\textbf{x}_k + \\alpha_{}\\textbf{d}_k)$."
   ]
  },
  {
   "cell_type": "code",
   "execution_count": 4,
   "metadata": {},
   "outputs": [],
   "source": [
    "def nonlinear_conjugate_gradient(f, Df, x0, tol=1e-5, maxiter=100):\n",
    "    \"\"\"Compute the minimizer of f using the nonlinear conjugate gradient\n",
    "    algorithm.\n",
    "\n",
    "    Parameters:\n",
    "        f (function): The objective function. Accepts a NumPy array of shape\n",
    "            (n,) and returns a float.\n",
    "        Df (function): The first derivative of f. Accepts and returns a NumPy\n",
    "            array of shape (n,).\n",
    "        x0 ((n,) ndarray): The initial guess.\n",
    "        tol (float): The stopping tolerance.\n",
    "        maxiter (int): The maximum number of iterations to compute.\n",
    "\n",
    "    Returns:\n",
    "        ((n,) ndarray): The approximate minimum of f.\n",
    "        (bool): Whether or not the algorithm converged.\n",
    "        (int): The number of iterations computed.\n",
    "    \"\"\"\n",
    "    \n",
    "    #We want floats as before\n",
    "    x0 = np.float64(x0)\n",
    "    #New way to get r_k. (It's pretty much just Df(xk).)\n",
    "    r0 = -Df(x0).T\n",
    "    d0 = r0\n",
    "    #Get alpha\n",
    "    fcn_alpha = lambda alpha: f(x0 + alpha*d0)\n",
    "    alpha0 = opt.minimize_scalar(fcn_alpha).x\n",
    "    #Get x1\n",
    "    x1 = x0 + alpha0 * d0\n",
    "    #We want to count the iterations and get the bool\n",
    "    iterations = 1\n",
    "    conv = False\n",
    "    #Now we iterate\n",
    "    for k in range(1,maxiter):\n",
    "        r1 = -Df(x1).T\n",
    "        beta1 = np.inner(r1,r1)/np.inner(r0,r0)\n",
    "        d1 = r1 + beta1*d0\n",
    "        #Get alpha1\n",
    "        fcn_alpha = lambda alpha: f(x1 + alpha*d1)\n",
    "        alpha1 = opt.minimize_scalar(fcn_alpha).x\n",
    "        #Now x2\n",
    "        x2 = x1 + alpha1 * d1\n",
    "        #Count!\n",
    "        iterations += 1\n",
    "        #Check if we have convergence already\n",
    "        if la.norm(r1) < tol:\n",
    "            conv = True\n",
    "            break\n",
    "        #Start again\n",
    "        x1 = x2\n",
    "        r0 = r1\n",
    "        alpha0 = alpha1\n",
    "        d0 = d1\n",
    "\n",
    "    #Get the value\n",
    "    return x2, conv, iterations"
   ]
  },
  {
   "cell_type": "markdown",
   "metadata": {},
   "source": [
    "Here we apply the conjugate_gradient() function to find the linear regression of data in a file. We do this by solving the linear system $A^{T}A\\textbf{x} = A^{T}\\textbf{b}$."
   ]
  },
  {
   "cell_type": "code",
   "execution_count": 11,
   "metadata": {},
   "outputs": [],
   "source": [
    "def linear_regress(filename=\"linregression.txt\",\n",
    "          x0=np.array([-3482258, 15, 0, -2, -1, 0, 1829])):\n",
    "    \"\"\"Use conjugate_gradient() to solve the linear regression problem with\n",
    "    the data from the given file, the given initial guess, and the default\n",
    "    tolerance. Return the solution to the corresponding Normal Equations.\n",
    "    \"\"\"\n",
    "    #Load data: i'th row is y_i, x_i1, x_i2, ..., x_in\n",
    "    data = np.loadtxt(filename)\n",
    "    #prob2 solves Qx = b\n",
    "    b = data[:,0]\n",
    "    m = len(b)\n",
    "    A = np.hstack((np.ones(m).reshape((-1,1)), data[:,1:]))\n",
    "\n",
    "    return conjugate_gradient(A.T@A, A.T@b, x0, tol=1e-4)[0]"
   ]
  },
  {
   "cell_type": "code",
   "execution_count": 15,
   "metadata": {},
   "outputs": [
    {
     "data": {
      "text/plain": [
       "array([-3.48225800e+06,  1.50167080e+01, -3.58101458e-02, -2.02012486e+00,\n",
       "       -1.03319899e+00, -5.11771269e-02,  1.82915588e+03])"
      ]
     },
     "execution_count": 15,
     "metadata": {},
     "output_type": "execute_result"
    }
   ],
   "source": [
    "linear_regress()"
   ]
  },
  {
   "cell_type": "markdown",
   "metadata": {},
   "source": [
    "Here is a class that performs logistic regression"
   ]
  },
  {
   "cell_type": "code",
   "execution_count": 12,
   "metadata": {},
   "outputs": [],
   "source": [
    "class LogisticRegression1D:\n",
    "    \"\"\"Binary logistic regression classifier for one-dimensional data.\"\"\"\n",
    "\n",
    "    def fit(self, x, y, guess):\n",
    "        \"\"\"Choose the optimal beta values by minimizing the negative log\n",
    "        likelihood function, given data and outcome labels.\n",
    "\n",
    "        Parameters:\n",
    "            x ((n,) ndarray): An array of n predictor variables.\n",
    "            y ((n,) ndarray): An array of n outcome variables.\n",
    "            guess (array): Initial guess for beta.\n",
    "\n",
    "        \"\"\"\n",
    "        #Create the function\n",
    "        f = lambda b: np.sum(np.log(1+np.exp(-(b[0]+b[1]*x))) + (1-y)*(b[0]+b[1]*x))\n",
    "        beta = opt.fmin_cg(f, guess)\n",
    "        #Store attributes\n",
    "        self.beta0 = beta[0]\n",
    "        self.beta1 = beta[1]\n",
    "\n",
    "    def predict(self, x):\n",
    "        \"\"\"Calculate the probability of an unlabeled predictor variable\n",
    "        having an outcome of 1.\n",
    "\n",
    "        Parameters:\n",
    "            x (float): a predictor variable with an unknown label.\n",
    "        \"\"\"\n",
    "        return 1/( 1+np.exp(-(self.beta0 + self.beta1*x)) )"
   ]
  },
  {
   "cell_type": "markdown",
   "metadata": {},
   "source": [
    "We use the above class to create a logistic regression for the data regardin O-ring failure leading up to Challenger space shuttle's explosion to calculate the likelihood that the O-rings would fail the day that they did (on January 28, 1986, killing all seven crew members). The function shows that with good gradient methods, this disaster could easily have been avoided. "
   ]
  },
  {
   "cell_type": "code",
   "execution_count": 23,
   "metadata": {},
   "outputs": [],
   "source": [
    "def logistic_regress(filename=\"challenger.npy\", guess=np.array([20., -1.])):\n",
    "    \"\"\"Return the probability of O-ring damage at 31 degrees Farenheit.\n",
    "    Additionally, plot the logistic curve through the challenger data\n",
    "    on the interval [30, 100].\n",
    "\n",
    "    Parameters:\n",
    "        filename (str): The file to perform logistic regression on.\n",
    "                        Defaults to \"challenger.npy\"\n",
    "        guess (array): The initial guess for beta.\n",
    "                        Defaults to [20., -1.]\n",
    "    \"\"\"\n",
    "    #load in data\n",
    "    data = np.load(filename)\n",
    "    #Get columns\n",
    "    x,y = data[:,0],data[:,1]\n",
    "    #Use the class\n",
    "    LR = LogisticRegression1D()\n",
    "    #Fit to the data\n",
    "    LR.fit(x,y,guess)\n",
    "    #Now plot everything\n",
    "    domain = np.linspace(30,100,200)\n",
    "    plt.plot(domain,LR.predict(domain))\n",
    "    #plot raw data\n",
    "    plt.plot(x,y,'bo',label=\"Previous Damage\")\n",
    "    #What to return\n",
    "    val_to_return = LR.predict(31)\n",
    "    plt.plot(31,val_to_return,'go',label=\"P(Damage) at Launch\")\n",
    "    plt.title(\"Probability of O-Ring Damage\")\n",
    "    plt.legend()\n",
    "    plt.show()\n",
    "\n",
    "    print(\"Probabilty of O-ring failure: \"+str(np.around(val_to_return*100,2))+\"%\")\n",
    "    return val_to_return"
   ]
  },
  {
   "cell_type": "code",
   "execution_count": 24,
   "metadata": {},
   "outputs": [
    {
     "name": "stdout",
     "output_type": "stream",
     "text": [
      "Warning: Desired error not necessarily achieved due to precision loss.\n",
      "         Current function value: 10.157597\n",
      "         Iterations: 6\n",
      "         Function evaluations: 112\n",
      "         Gradient evaluations: 25\n"
     ]
    },
    {
     "data": {
      "image/png": "[encoded data removed]",
      "text/plain": [
       "<Figure size 432x288 with 1 Axes>"
      ]
     },
     "metadata": {},
     "output_type": "display_data"
    },
    {
     "name": "stdout",
     "output_type": "stream",
     "text": [
      "Probabilty of O-ring failure: 99.96%\n"
     ]
    },
    {
     "data": {
      "text/plain": [
       "0.999609671069125"
      ]
     },
     "execution_count": 24,
     "metadata": {},
     "output_type": "execute_result"
    }
   ],
   "source": [
    "logistic_regress()"
   ]
  },
  {
   "cell_type": "code",
   "execution_count": null,
   "metadata": {},
   "outputs": [],
   "source": []
  }
 ],
 "metadata": {
  "kernelspec": {
   "display_name": "Python 3",
   "language": "python",
   "name": "python3"
  },
  "language_info": {
   "codemirror_mode": {
    "name": "ipython",
    "version": 3
   },
   "file_extension": ".py",
   "mimetype": "text/x-python",
   "name": "python",
   "nbconvert_exporter": "python",
   "pygments_lexer": "ipython3",
   "version": "3.6.6"
  }
 },
 "nbformat": 4,
 "nbformat_minor": 2
}
