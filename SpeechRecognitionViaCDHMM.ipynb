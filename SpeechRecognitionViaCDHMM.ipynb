{
 "cells": [
  {
   "cell_type": "code",
   "execution_count": 17,
   "metadata": {},
   "outputs": [],
   "source": [
    "import numpy as np\n",
    "from scipy.io.wavfile import read\n",
    "import re\n",
    "import os\n",
    "import MFCC\n",
    "import gmmhmm\n",
    "from sklearn.model_selection import train_test_split\n",
    "import pickle as pkl"
   ]
  },
  {
   "cell_type": "markdown",
   "metadata": {},
   "source": [
    "# Speech recognition using Continuous Density Hidden Markov Models (CDHMM)\n",
    "\n",
    "## GMMHMM (Gaussian Mixture Model HMM)\n",
    "\n",
    "Below is a function which accepts a GMMHMM as well as an integer `n_sim`, and which simulates the GMMHMM process, generating `n_sim` different observations."
   ]
  },
  {
   "cell_type": "code",
   "execution_count": 8,
   "metadata": {},
   "outputs": [],
   "source": [
    "def sample_gmmhmm(gmmhmm, n_sim, K=3):\n",
    "    \"\"\"\n",
    "    Simulate sampling from a GMMHMM.\n",
    "\n",
    "    Returns\n",
    "    -------\n",
    "    states : ndarray of shape (n_sim,)\n",
    "        The sequence of states\n",
    "    obs : ndarray of shape (n_sim, K)\n",
    "        The generated observations (column vectors of length K)\n",
    "    \"\"\"\n",
    "    A, weights, means, covars, pi = tuple(gmmhmm)\n",
    "    states = [np.random.choice(np.arange(len(pi)), p=pi)]\n",
    "    sample_component = np.argmax(np.random.multinomial(1, weights[states[-1],:]))\n",
    "    sample = np.random.multivariate_normal(means[states[-1], sample_component, :], covars[states[-1], sample_component, :, :])\n",
    "    obs = [sample]\n",
    "    last_component = 0\n",
    "    for _ in range(n_sim):\n",
    "        states.append(np.random.choice(np.arange(len(pi)), p=A[states[-1]]))\n",
    "        sample_component = np.argmax(np.random.multinomial(1, weights[states[-1],:]))\n",
    "        sample = np.random.multivariate_normal(means[states[-1], sample_component, :], covars[states[-1], sample_component, :, :])\n",
    "        obs.append(sample)\n",
    "    \n",
    "    return np.array(states), np.array(obs)"
   ]
  },
  {
   "cell_type": "markdown",
   "metadata": {},
   "source": [
    "## Voice recordings, spectrograms, and MFCC\n",
    "\n",
    "We use dozens of recordings for each of the words/phrases mathematics, biology,\n",
    "political science, psychology, and statistics. These audio samples are 2 seconds in\n",
    "duration, recorded at a rate of 44100 samples per second, with samples stored as 16-bit signed\n",
    "integers in WAV format. We load the recordings into Python using scipy.io.wavfile.read."
   ]
  },
  {
   "cell_type": "code",
   "execution_count": 12,
   "metadata": {},
   "outputs": [
    {
     "name": "stderr",
     "output_type": "stream",
     "text": [
      "/usr/local/anaconda3/lib/python3.6/site-packages/matplotlib/cbook/deprecation.py:107: MatplotlibDeprecationWarning: Adding an axes using the same arguments as a previous axes currently reuses the earlier instance.  In a future version, a new instance will always be created and returned.  Meanwhile, this warning can be suppressed, and the future behavior ensured, by passing a unique label to each axes instance.\n",
      "  warnings.warn(message, mplDeprecation, stacklevel=1)\n",
      "/usr/local/anaconda3/lib/python3.6/site-packages/scipy/io/wavfile.py:273: WavFileWarning: Chunk (non-data) not understood, skipping it.\n",
      "  WavFileWarning)\n"
     ]
    },
    {
     "data": {
      "image/png": "[encoded data removed]",
      "text/plain": [
       "<Figure size 432x288 with 1 Axes>"
      ]
     },
     "metadata": {},
     "output_type": "display_data"
    }
   ],
   "source": [
    "# bio_mfcc, math_mfcc, polisci_mfcc, psych_mfcc, stats_mfcc = [],[],[],[],[]\n",
    "all_mfcc = [[],[],[],[],[]]\n",
    "for list_idx, name_base in enumerate([\"Biology\",\"Mathematics\",\"PoliticalScience\", \"Psychology\", \"Statistics\"]):\n",
    "    for i in range(31):\n",
    "        filename = \"Samples/\" + name_base + \" (\" + str(i) + \").wav\"\n",
    "        sample = read(filename)\n",
    "        mfccs = MFCC.extract(sample[1])\n",
    "        all_mfcc[list_idx].append(mfccs)"
   ]
  },
  {
   "cell_type": "markdown",
   "metadata": {},
   "source": [
    "## HMM model training on MFCC data\n",
    "\n",
    "We partition each list of MFCCs into a training set of 20 samples, and a test set of\n",
    "the remaining 10 samples.\n",
    "\n",
    "Using the training sets, we train a GMMHMM on each of the words from the previous problem\n",
    "with at least 10 random restarts, keeping the best model for each word (the one with the highest\n",
    "log-likelihood). \n",
    "\n",
    "This process may take several minutes. Since you will not want to run this\n",
    "more than once, you will want to save the best model for each word to disk using the pickle\n",
    "module so that you can use it later."
   ]
  },
  {
   "cell_type": "code",
   "execution_count": 18,
   "metadata": {},
   "outputs": [],
   "source": [
    "def initialize(n):\n",
    "    \"\"\"\n",
    "    takes in number of states and creates random \n",
    "    initial state distribution and transition matrix\n",
    "    \n",
    "    inputs:\n",
    "        n: number of states\n",
    "        \n",
    "    outputs:\n",
    "        startprob: initial state distribution\n",
    "        transmat: transition matrix\n",
    "    \"\"\"\n",
    "    # create initial state distribution\n",
    "    startprob = np.random.rand(n)\n",
    "    startprob /= np.sum(startprob)\n",
    "    \n",
    "    # create transition matrix\n",
    "    transmat = np.random.rand(n,n)\n",
    "    transmat = (transmat.T/np.sum(transmat, axis=1)).T\n",
    "    \n",
    "    # return results\n",
    "    return startprob, transmat"
   ]
  },
  {
   "cell_type": "code",
   "execution_count": 19,
   "metadata": {},
   "outputs": [
    {
     "name": "stdout",
     "output_type": "stream",
     "text": [
      "Biology 0 1 2 3 4 5 6 7 8 9 \n",
      "Opening pickle file...\n",
      "Mathematics 0 1 2 3 4 5 6 7 8 9 \n",
      "Opening pickle file...\n",
      "PoliticalScience 0 1 2 3 4 5 6 7 8 9 \n",
      "Opening pickle file...\n",
      "Psychology 0 1 2 3 4 5 6 7 8 9 \n",
      "Opening pickle file...\n",
      "Statistics 0 1 2 3 4 5 6 7 8 9 \n",
      "Opening pickle file...\n"
     ]
    }
   ],
   "source": [
    "save_test_samps = {}\n",
    "for list_idx, name_base in enumerate([\"Biology\",\"Mathematics\",\"PoliticalScience\", \"Psychology\", \"Statistics\"]):\n",
    "    print(name_base,end=' ',flush=True)\n",
    "    samples = all_mfcc[list_idx]\n",
    "    # test train split\n",
    "    train_samps, test_samps = tuple( train_test_split(samples,test_size=10) )\n",
    "    # save test samps\n",
    "    save_test_samps[name_base] = test_samps \n",
    "    # then find the best model!\n",
    "    best_prob = -np.inf\n",
    "    best_model = None\n",
    "    for _ in range(10):\n",
    "        print(_,end=' ',flush=True)\n",
    "        startprob, transmat = initialize(5)\n",
    "        model = gmmhmm.GMMHMM(n_components=5, n_mix=3, transmat=transmat, startprob=startprob, cvtype='diag')\n",
    "        model.covars_prior = 0.01\n",
    "        model.fit(train_samps, init_params='mc', var=0.1)\n",
    "        if model.logprob > best_prob:\n",
    "            best_model = model\n",
    "    print(\"\",flush=True)\n",
    "    print(\"Opening pickle file...\",flush=True)\n",
    "    # save to pkl\n",
    "    with open(name_base+\".pkl\",'wb') as f:\n",
    "        pkl.dump(best_model, f)"
   ]
  },
  {
   "cell_type": "markdown",
   "metadata": {},
   "source": [
    "## Evaluate performance and testing data\n",
    "\n",
    "Classify the 10 test samples for each word. How does your system perform?\n",
    "Which words are the hardest to correctly classify? \n",
    "\n",
    "Below we show a dictionary containing the accuracy\n",
    "of the classification of your five testing sets. Specifically, the words/phrases are the keys,\n",
    "and the values are the percent accuracy."
   ]
  },
  {
   "cell_type": "code",
   "execution_count": 21,
   "metadata": {
    "scrolled": true
   },
   "outputs": [
    {
     "name": "stdout",
     "output_type": "stream",
     "text": [
      "Getting Biology pickle\n",
      "Getting Mathematics pickle\n",
      "Getting PoliticalScience pickle\n",
      "Getting Psychology pickle\n",
      "Getting Statistics pickle\n",
      "Finding Biology scores . . . . . . . . . . \n",
      "Finding Mathematics scores . . . . . . . . . . \n",
      "Finding PoliticalScience scores . . . . . . . . . . \n",
      "Finding Psychology scores . . . . . . . . . . \n",
      "Finding Statistics scores . . . . . . . . . . \n"
     ]
    }
   ],
   "source": [
    "word_to_accuracy = {}\n",
    "models = []\n",
    "for list_idx, name_base in enumerate([\"Biology\",\"Mathematics\",\"PoliticalScience\", \"Psychology\", \"Statistics\"]):\n",
    "    # Calculate accuracy\n",
    "    print(\"Getting \"+name_base+\" pickle\",flush=True)\n",
    "    with open(name_base+\".pkl\",'rb') as f:\n",
    "        models.append(pkl.load(f))\n",
    "        \n",
    "for list_idx, name_base in enumerate([\"Biology\",\"Mathematics\",\"PoliticalScience\", \"Psychology\", \"Statistics\"]):\n",
    "    print(\"Finding \"+name_base+\" scores\", end=' ', flush=True)\n",
    "    tot_scores = 0\n",
    "    for obs in save_test_samps[name_base]:\n",
    "        print(\".\",end=' ',flush=True)\n",
    "        predicted_list_idx = np.argmax([mod.score(obs) for mod in models])\n",
    "        if predicted_list_idx == list_idx:\n",
    "            tot_scores += 1\n",
    "    avg_score = tot_scores/10.\n",
    "    word_to_accuracy[name_base] = 100*avg_score\n",
    "    print(\"\",flush=True)"
   ]
  },
  {
   "cell_type": "code",
   "execution_count": 22,
   "metadata": {
    "scrolled": true
   },
   "outputs": [
    {
     "data": {
      "text/plain": [
       "{'Biology': 100.0,\n",
       " 'Mathematics': 100.0,\n",
       " 'PoliticalScience': 90.0,\n",
       " 'Psychology': 100.0,\n",
       " 'Statistics': 100.0}"
      ]
     },
     "execution_count": 22,
     "metadata": {},
     "output_type": "execute_result"
    }
   ],
   "source": [
    "word_to_accuracy"
   ]
  },
  {
   "cell_type": "markdown",
   "metadata": {},
   "source": [
    "These are very positive results! PoliSci had the worst results but still pretty dang good :)"
   ]
  },
  {
   "cell_type": "code",
   "execution_count": null,
   "metadata": {},
   "outputs": [],
   "source": []
  }
 ],
 "metadata": {
  "kernelspec": {
   "display_name": "Python 3",
   "language": "python",
   "name": "python3"
  },
  "language_info": {
   "codemirror_mode": {
    "name": "ipython",
    "version": 3
   },
   "file_extension": ".py",
   "mimetype": "text/x-python",
   "name": "python",
   "nbconvert_exporter": "python",
   "pygments_lexer": "ipython3",
   "version": "3.7.4"
  }
 },
 "nbformat": 4,
 "nbformat_minor": 2
}
